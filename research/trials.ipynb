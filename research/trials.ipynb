{
 "cells": [
  {
   "cell_type": "code",
   "execution_count": null,
   "id": "91e65502",
   "metadata": {},
   "outputs": [],
   "source": [
    "\"hi\""
   ]
  },
  {
   "cell_type": "code",
   "execution_count": null,
   "id": "73fa6436",
   "metadata": {},
   "outputs": [],
   "source": [
    "%pwd"
   ]
  },
  {
   "cell_type": "code",
   "execution_count": null,
   "id": "4e52078d",
   "metadata": {},
   "outputs": [],
   "source": [
    "import os\n",
    "\n",
    "os.chdir(\"../\")"
   ]
  },
  {
   "cell_type": "code",
   "execution_count": null,
   "id": "beb0d5ce",
   "metadata": {},
   "outputs": [],
   "source": [
    "%pwd"
   ]
  },
  {
   "cell_type": "markdown",
   "id": "22f6c423",
   "metadata": {},
   "source": [
    "# RAG Chatbot architecture building\n",
    "\n",
    "1. Load the documents\n",
    "2. Preprocess the document (remove the metadta and just keep the page_source and page_content)\n",
    "3. Chunk the data\n",
    "4. Convert the chunks into embeddings"
   ]
  },
  {
   "cell_type": "markdown",
   "id": "8fe05bc3",
   "metadata": {},
   "source": [
    "## 1. Load the PDF file"
   ]
  },
  {
   "cell_type": "code",
   "execution_count": null,
   "id": "7e144628",
   "metadata": {},
   "outputs": [],
   "source": [
    "from langchain.document_loaders import DirectoryLoader, PyPDFLoader\n",
    "from typing import List\n",
    "\n",
    "def load_documents(data_path: str) -> List:\n",
    "    loader = DirectoryLoader(\n",
    "        data_path, glob=\"*.pdf\", loader_cls=PyPDFLoader\n",
    "    )\n",
    "    documents = loader.load()\n",
    "    return documents\n"
   ]
  },
  {
   "cell_type": "code",
   "execution_count": null,
   "id": "61f453e9",
   "metadata": {},
   "outputs": [],
   "source": [
    "extracted_documents = load_documents(\"data\")\n",
    "extracted_documents"
   ]
  },
  {
   "cell_type": "code",
   "execution_count": null,
   "id": "8b6668cc",
   "metadata": {},
   "outputs": [],
   "source": [
    "len(extracted_documents)"
   ]
  },
  {
   "cell_type": "markdown",
   "id": "47940600",
   "metadata": {},
   "source": [
    "### Proprocess the extracted documents"
   ]
  },
  {
   "cell_type": "code",
   "execution_count": null,
   "id": "2db50e13",
   "metadata": {},
   "outputs": [],
   "source": [
    "from langchain.schema import Document\n",
    "from typing import List\n",
    "\n",
    "def filter_minimal_docs(docs: List[Document]) -> List[Document]:\n",
    "    # filer out the docs that are two short\n",
    "\n",
    "    minimal_docs = []\n",
    "\n",
    "    for doc in docs:\n",
    "        src = doc.metadata.get(\"source\")\n",
    "        minimal_docs.append(\n",
    "            Document(\n",
    "                page_content=doc.page_content,\n",
    "                metadata={\"source\": src}\n",
    "            )\n",
    "        )\n",
    "    return minimal_docs"
   ]
  },
  {
   "cell_type": "code",
   "execution_count": null,
   "id": "359d99c9",
   "metadata": {},
   "outputs": [],
   "source": [
    "minimal_docs = filter_minimal_docs(extracted_documents)\n",
    "minimal_docs"
   ]
  },
  {
   "cell_type": "code",
   "execution_count": null,
   "id": "f070ab0d",
   "metadata": {},
   "outputs": [],
   "source": [
    "len(minimal_docs)"
   ]
  },
  {
   "cell_type": "markdown",
   "id": "98f320a0",
   "metadata": {},
   "source": [
    "## 2. Chunking"
   ]
  },
  {
   "cell_type": "code",
   "execution_count": null,
   "id": "d62e58c6",
   "metadata": {},
   "outputs": [],
   "source": [
    "from langchain.text_splitter import RecursiveCharacterTextSplitter\n",
    "\n",
    "# split the data into smaller chunks\n",
    "\n",
    "def chunk_data(minimal_docs):\n",
    "    text_splitter = RecursiveCharacterTextSplitter(\n",
    "        chunk_size=500,\n",
    "        chunk_overlap=20\n",
    "    )\n",
    "    text_chunk = text_splitter.split_documents(minimal_docs)\n",
    "    return text_chunk\n"
   ]
  },
  {
   "cell_type": "code",
   "execution_count": null,
   "id": "0104c212",
   "metadata": {},
   "outputs": [],
   "source": [
    "chunked_data = chunk_data(minimal_docs)\n",
    "chunked_data"
   ]
  },
  {
   "cell_type": "code",
   "execution_count": null,
   "id": "a46830e9",
   "metadata": {},
   "outputs": [],
   "source": [
    "print(f'number of chunks: {len(chunked_data)}')"
   ]
  },
  {
   "cell_type": "markdown",
   "id": "d91f4a5e",
   "metadata": {},
   "source": [
    "# Convert chunks into embeddings"
   ]
  },
  {
   "cell_type": "code",
   "execution_count": null,
   "id": "c023c5a8",
   "metadata": {},
   "outputs": [],
   "source": [
    "# Download embeddings model from the Hugging face (sentence transformer)\n",
    "from langchain.embeddings import HuggingFaceBgeEmbeddings\n",
    "\n",
    "def download_embeddings():\n",
    "    model_name = \"sentence-transformers/all-MiniLM-L6-v2\"\n",
    "    embeddings = HuggingFaceBgeEmbeddings(\n",
    "        model_name=model_name\n",
    "    )\n",
    "    return embeddings"
   ]
  },
  {
   "cell_type": "code",
   "execution_count": null,
   "id": "81bb0974",
   "metadata": {},
   "outputs": [],
   "source": [
    "embedding = download_embeddings()"
   ]
  },
  {
   "cell_type": "code",
   "execution_count": null,
   "id": "bdf69cc6",
   "metadata": {},
   "outputs": [],
   "source": [
    "embedding"
   ]
  },
  {
   "cell_type": "code",
   "execution_count": null,
   "id": "6bdba094",
   "metadata": {},
   "outputs": [],
   "source": [
    "vector = embedding.embed_query(\"Hi, How are you?\")\n",
    "vector"
   ]
  },
  {
   "cell_type": "code",
   "execution_count": null,
   "id": "5f1d0e85",
   "metadata": {},
   "outputs": [],
   "source": [
    "print(f'The dimension of the vector is: {len(vector)}')"
   ]
  },
  {
   "cell_type": "markdown",
   "id": "d67a88c8",
   "metadata": {},
   "source": [
    "# Setup pinecone Vector db"
   ]
  },
  {
   "cell_type": "code",
   "execution_count": null,
   "id": "82be53d7",
   "metadata": {},
   "outputs": [],
   "source": [
    "from dotenv import load_dotenv\n",
    "import os\n",
    "\n",
    "load_dotenv()\n",
    "\n",
    "pinecone_api_key = os.getenv(\"PINECONE_API_KEY\")\n",
    "pinecone_api_key"
   ]
  },
  {
   "cell_type": "code",
   "execution_count": null,
   "id": "0043c6c8",
   "metadata": {},
   "outputs": [],
   "source": [
    "from pinecone import Pinecone\n",
    "\n",
    "# create a pinecone client\n",
    "pc = Pinecone(api_key=pinecone_api_key)\n",
    "print(f'Pinecone client: {pc}')\n"
   ]
  },
  {
   "cell_type": "code",
   "execution_count": null,
   "id": "f3dc4938",
   "metadata": {},
   "outputs": [],
   "source": [
    "from pinecone import ServerlessSpec\n",
    "\n",
    "\n",
    "index_name = \"medical-chatbot\"\n",
    "\n",
    "if not pc.has_index:\n",
    "    pc.create_index(\n",
    "        name=index_name,\n",
    "        dimension=384,\n",
    "        metric=\"cosine\",\n",
    "        spec=ServerlessSpec(cloud=\"aws\", region=\"us-east-1\")\n",
    "    )\n",
    "\n",
    "\n",
    "# create index\n",
    "pc.Index(index_name)"
   ]
  }
 ],
 "metadata": {
  "kernelspec": {
   "display_name": ".venv",
   "language": "python",
   "name": "python3"
  },
  "language_info": {
   "codemirror_mode": {
    "name": "ipython",
    "version": 3
   },
   "file_extension": ".py",
   "mimetype": "text/x-python",
   "name": "python",
   "nbconvert_exporter": "python",
   "pygments_lexer": "ipython3",
   "version": "3.12.5"
  }
 },
 "nbformat": 4,
 "nbformat_minor": 5
}
